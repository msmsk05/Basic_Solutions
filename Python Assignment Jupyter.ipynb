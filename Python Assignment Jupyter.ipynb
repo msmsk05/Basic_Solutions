{
 "cells": [
  {
   "cell_type": "code",
   "execution_count": 2,
   "metadata": {},
   "outputs": [
    {
     "name": "stdout",
     "output_type": "stream",
     "text": [
      "Please enter your name: mehmet\n",
      "Hello, \u001b[1mMehmet\u001b[0m! The password is: W@12\n"
     ]
    }
   ],
   "source": [
    "password = \"W@12\"\n",
    "name = \"Mehmet\"\n",
    "newname = input(\"Please enter your name: \").title().strip()\n",
    "if name == newname :\n",
    "    print(\"Hello,\", \"\\033[1m\" + name+\"\\033[0m\"+\"! The password is:\",password)\n",
    "else:\n",
    "    print(\"Hello,\", \"\\033[1m\" + newname+\"\\033[0m\"+\"!\",\"See you later.\")"
   ]
  },
  {
   "cell_type": "markdown",
   "metadata": {},
   "source": []
  }
 ],
 "metadata": {
  "kernelspec": {
   "display_name": "Python 3",
   "language": "python",
   "name": "python3"
  },
  "language_info": {
   "codemirror_mode": {
    "name": "ipython",
    "version": 3
   },
   "file_extension": ".py",
   "mimetype": "text/x-python",
   "name": "python",
   "nbconvert_exporter": "python",
   "pygments_lexer": "ipython3",
   "version": "3.7.6"
  }
 },
 "nbformat": 4,
 "nbformat_minor": 4
}
